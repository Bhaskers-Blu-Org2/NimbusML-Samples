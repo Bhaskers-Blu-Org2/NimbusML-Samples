{
 "cells": [
  {
   "cell_type": "markdown",
   "metadata": {},
    "source": [
      "# WikiPedia Detox Analysis\n",
      "\n",
      "Learners and transformations in nimbusml can be used in sklearn pipelines together with scikit learn elements. In this example, we develop a scikit learn pipeline with nimbusml featurizer and then replace all scikit learn elements with nimbusml ones.\n",
      "\n",
      "We use the WikiPedia Detox dataset (https://meta.wikimedia.org/wiki/Research:Detox/Data_Release) to develop a binary classifier to identify if a comment on the webpage is a personal attack. The original input data includes a corpus of 95 million article talks, while in this example, we use a small sample (100 rows) for training and testing.\n",
      "\n",
      "2 models/pipelines are created:\n",
      "1. A sklearn pipeline with nimbusml NGramFeaturizer, sklearn Truncated SVD and sklearn LogisticRegression\n",
      "2. A nimbusml pipeline with nimbusml NGramFeaturizer, nimbusml WordEmbedding and nimbusml FastLinearBinaryClassifier trained with nimbusml FileDataStream."
    ]
  },
  {
   "cell_type": "markdown",
   "metadata": {},
   "source": [
    "A sample of the dataset is presented in the following table:\n",
    "\n",
    "|Sentiment|SentimentText|\n",
    "|-----|-----------------|\n",
    "|1|==RUDE== Dude, you are rude upload that carl picture back, or else.|\n",
    "|1|== OK! ==  IM GOING TO VANDALIZE WILD ONES WIKI THEN!!!|\n",
    "|1|  Stop trolling, zapatancas, calling me a liar merely demonstartes that you arer Zapatancas...|"
   ]
  },
  {
   "cell_type": "markdown",
   "metadata": {},
   "source": [
    "For simplicity, we just use the \"comment\" column as the input data and the \"Label\" column as the label."
   ]
  },
  {
   "cell_type": "markdown",
   "metadata": {},
    "source": [
      "## Model 1: Sklearn Pipeline with nimbusml Element "
    ]
  },
  {
   "cell_type": "markdown",
   "metadata": {},
    "source": [
      "In this example, we create a sklearn pipeline with nimbusml NGramFeaturizer, sklearn Truncated SVD and sklearn LogisticRegression. Similarly to the TfidfVectorizer(), our NGramFeaturizer creates the the same bag of counts of sequences and weights it using TF-IDF method. \n",
      "The nimbusml featurizer works as well in a sklearn pipeline. We can just swap out the first TfidfVectorizer() with our NGramFeaturizer() in the sklearn pipeline."
    ]
  },
  {
   "cell_type": "code",
   "execution_count": 1,
   "metadata": {
    "collapsed": true
   },
   "outputs": [],
   "source": [
    "import numpy as np\n",
    "import time\n",
    "import sklearn\n",
    "import os\n",
    "from IPython.display import display\n",
    "import matplotlib.pyplot as plt\n",
    "import pandas as pd\n",
    "from nimbusml.datasets import get_dataset\n",
    "from nimbusml.feature_extraction.text.extractor import Ngram\n",
    "from nimbusml.feature_extraction.text import NGramFeaturizer\n",
    "from sklearn.feature_extraction.text import TfidfVectorizer as sklearn_TfidfVectorizer\n",
    "from sklearn.decomposition import TruncatedSVD as sklearn_TruncatedSVD\n",
    "from sklearn.pipeline import Pipeline as sklearn_ppl\n",
    "from sklearn.metrics import roc_auc_score, roc_curve\n",
    "from sklearn.metrics import auc as sk_auc"
   ]
  },
  {
   "cell_type": "code",
   "execution_count": 2,
   "metadata": {
    "collapsed": true
   },
   "outputs": [],
   "source": [
    "def plot_roc_score(label_test, score):\n",
    "    x, y, _ = roc_curve(label_test, score)\n",
    "    roc_auc = sk_auc(x, y)\n",
    "    \n",
    "    plt.figure()\n",
    "    lw = 2\n",
    "    plt.plot(x, y, color='darkorange',\n",
    "             lw=lw, label='ROC curve (area = %0.2f)' % roc_auc)\n",
    "    plt.plot([0, 1], [0, 1], color='navy', lw=lw, linestyle='--')\n",
    "    plt.xlim([0.0, 1.0])\n",
    "    plt.ylim([0.0, 1.05])\n",
    "    plt.xlabel('False Positive Rate')\n",
    "    plt.ylabel('True Positive Rate')\n",
    "    plt.title('Receiver operating characteristic')\n",
    "    plt.legend(loc=\"lower right\")\n",
    "    plt.show()"
   ]
  },
  {
   "cell_type": "code",
   "execution_count": 3,
   "metadata": {},
   "outputs": [
    {
     "name": "stdout",
     "output_type": "stream",
     "text": [
      "train-250.wikipedia.sample.tsv\n",
      "test.wikipedia.sample.tsv\n"
     ]
    }
   ],
   "source": [
    "# Get input data file path from the package\n",
    "Train_file = get_dataset('wiki_detox_train').as_filepath()\n",
    "Test_file = get_dataset('wiki_detox_test').as_filepath()\n",
    "print(os.path.basename(Train_file))\n",
    "print(os.path.basename(Test_file))"
   ]
  },
  {
   "cell_type": "code",
   "execution_count": 4,
   "metadata": {},
   "outputs": [
    {
     "data": {
      "text/html": [
       "<div>\n",
       "<style scoped>\n",
       "    .dataframe tbody tr th:only-of-type {\n",
       "        vertical-align: middle;\n",
       "    }\n",
       "\n",
       "    .dataframe tbody tr th {\n",
       "        vertical-align: top;\n",
       "    }\n",
       "\n",
       "    .dataframe thead th {\n",
       "        text-align: right;\n",
       "    }\n",
       "</style>\n",
       "<table border=\"1\" class=\"dataframe\">\n",
       "  <thead>\n",
       "    <tr style=\"text-align: right;\">\n",
       "      <th></th>\n",
       "      <th>Sentiment</th>\n",
       "      <th>SentimentText</th>\n",
       "    </tr>\n",
       "  </thead>\n",
       "  <tbody>\n",
       "    <tr>\n",
       "      <th>0</th>\n",
       "      <td>1</td>\n",
       "      <td>==RUDE== Dude, you are rude upload that carl...</td>\n",
       "    </tr>\n",
       "    <tr>\n",
       "      <th>1</th>\n",
       "      <td>1</td>\n",
       "      <td>== OK! ==  IM GOING TO VANDALIZE WILD ONES W...</td>\n",
       "    </tr>\n",
       "    <tr>\n",
       "      <th>2</th>\n",
       "      <td>1</td>\n",
       "      <td>Stop trolling, zapatancas, calling me a lia...</td>\n",
       "    </tr>\n",
       "    <tr>\n",
       "      <th>3</th>\n",
       "      <td>1</td>\n",
       "      <td>==You're cool==  You seem like a really cool...</td>\n",
       "    </tr>\n",
       "    <tr>\n",
       "      <th>4</th>\n",
       "      <td>1</td>\n",
       "      <td>::::: Why are you threatening me? I'm not bei...</td>\n",
       "    </tr>\n",
       "  </tbody>\n",
       "</table>\n",
       "</div>"
      ],
      "text/plain": [
       "   Sentiment                                      SentimentText\n",
       "0          1    ==RUDE== Dude, you are rude upload that carl...\n",
       "1          1    == OK! ==  IM GOING TO VANDALIZE WILD ONES W...\n",
       "2          1     Stop trolling, zapatancas, calling me a lia...\n",
       "3          1    ==You're cool==  You seem like a really cool...\n",
       "4          1   ::::: Why are you threatening me? I'm not bei..."
      ]
     },
     "execution_count": 4,
     "metadata": {},
     "output_type": "execute_result"
    }
   ],
   "source": [
    "# Loading data\n",
    "# dataTrain = pd.read_csv(Train_file, encoding=\"ISO-8859-1\", sep = \"\\t\") # Error under py2.7 but not 3.6\n",
    "dataTrain = pd.read_csv(Train_file, sep = \"\\t\")\n",
    "dataTest = pd.read_csv(Test_file, sep = \"\\t\")\n",
    "\n",
    "dataTrain.head()"
   ]
  },
  {
   "cell_type": "code",
   "execution_count": 5,
   "metadata": {
    "collapsed": true
   },
   "outputs": [],
   "source": [
    "# Creating pipeline\n",
    "t0 = time.time()\n",
    "\n",
    "featurizer = NGramFeaturizer(word_feature_extractor=Ngram())\n",
    "svd = sklearn_TruncatedSVD(random_state = 1, n_components = 400)\n",
    "lr = sklearn.linear_model.LogisticRegression()\n",
    "sk_ppl = sklearn_ppl([(\"featurizer\",featurizer),\n",
    "                     (\"svd\",svd),\n",
    "                     (\"lr\",lr)]) "
   ]
  },
  {
   "cell_type": "code",
   "execution_count": 6,
   "metadata": {},
   "outputs": [
    {
     "name": "stdout",
     "output_type": "stream",
     "text": [
      "Training time: 8.68s\n"
     ]
    }
   ],
   "source": [
    "# Training\n",
    "sk_ppl.fit(dataTrain[[\"SentimentText\"]], dataTrain[\"Sentiment\"]) #UPDATE ONCE SERIES IS SUPPORTED FOR X!\n",
    "\n",
    "train_time_sec = time.time() - t0\n",
    "print(\"Training time: \" + str(round(train_time_sec,2)) + \"s\")"
   ]
  },
  {
   "cell_type": "code",
   "execution_count": 7,
   "metadata": {},
   "outputs": [
    {
     "name": "stdout",
     "output_type": "stream",
     "text": [
      "Testing time: 0.87s\n"
     ]
    }
   ],
   "source": [
    "# Testing\n",
    "t0 = time.time()\n",
    "Y_pred = sk_ppl.predict(dataTest[\"SentimentText\"].to_frame()) #UPDATE ONCE SERIES IS SUPPORTED FOR X!\n",
    "Y_prob = sk_ppl.predict_proba(dataTest[\"SentimentText\"].to_frame())#UPDATE ONCE SERIES IS SUPPORTED FOR X!\n",
    "test_time_sec = time.time() - t0\n",
    "print(\"Testing time: \" + str(round(test_time_sec,2)) + \"s\")"
   ]
  },
  {
   "cell_type": "code",
   "execution_count": 8,
   "metadata": {},
   "outputs": [
    {
     "data": {
      "image/png": "[encoded data removed]",
      "text/plain": [
       "<matplotlib.figure.Figure at 0x23fca1132b0>"
      ]
     },
     "metadata": {},
     "output_type": "display_data"
    }
   ],
   "source": [
    "# Plot roc\n",
    "plot_roc_score(dataTest[\"Sentiment\"], Y_prob[:,1]);"
   ]
  },
  {
   "cell_type": "markdown",
   "metadata": {},
   "source": [
    "## Model 2: Pure NimbusML with Schema"
   ]
  },
  {
   "cell_type": "markdown",
   "metadata": {},
    "source": [
      "In this example, we will create a pure nimbusml pipeline with only nimbusml elements, i.e. nimbusml NGramFeaturizer, nimbusml WordEmbedding and nimbusml FastLinearBinaryClassifier. We will process the data using nimbusml DataFileStream instead of pandas dataframe."
    ]
  },
  {
   "cell_type": "code",
   "execution_count": 9,
   "metadata": {
    "collapsed": true
   },
   "outputs": [],
   "source": [
    "import time\n",
    "from nimbusml.linear_model import FastLinearBinaryClassifier\n",
    "from nimbusml.feature_extraction.text import WordEmbedding\n",
    "from nimbusml import Pipeline, FileDataStream"
   ]
  },
  {
   "cell_type": "markdown",
   "metadata": {},
   "source": [
    "The WordEmbedding() is based on a pretrained DNN model to generate word embeddings for given corps. In this example, we use the 'GloVe50D' as the embedding model. Available options are: 'GloVe50D', 'GloVe100D', 'GloVe200D', 'GloVe300D', 'GloVeTwitter25D', 'GloVeTwitter50D', 'GloVeTwitter100D', 'GloVeTwitter200D', 'FastTextWikipedia300D', and 'Sswe'. The output is 100 dimensional and compared with the \"vanilla\" ngram models, the features are much more meaningful. Users can also play with other options, such as the Sentiment-specific word embedding (SSWE), which incorporates sentiment information into the features. It's proved to be useful in various sentiment analysis tasks. \n",
    "\n",
    "The WordEmbedding() takes as input a sequence of words: \n",
    "\n",
    "                                         [\"This\", \"is\", \"a\", \"sentence\"].\n",
    "\n",
    "Therefore, we need to convert the raw input \"This is a sentence\" into the format that SsweEmbedding requires. And that can be done using the NGramFeaturizer() and setting output_tokens = True. Let's see a short example."
   ]
  },
  {
   "cell_type": "code",
   "execution_count": 10,
   "metadata": {},
   "outputs": [
    {
     "data": {
      "text/html": [
       "<div>\n",
       "<style scoped>\n",
       "    .dataframe tbody tr th:only-of-type {\n",
       "        vertical-align: middle;\n",
       "    }\n",
       "\n",
       "    .dataframe tbody tr th {\n",
       "        vertical-align: top;\n",
       "    }\n",
       "\n",
       "    .dataframe thead th {\n",
       "        text-align: right;\n",
       "    }\n",
       "</style>\n",
       "<table border=\"1\" class=\"dataframe\">\n",
       "  <thead>\n",
       "    <tr style=\"text-align: right;\">\n",
       "      <th></th>\n",
       "      <th>SentimentText.!</th>\n",
       "      <th>SentimentText.!!!!!!!!!!!!!!!!!!!!!!!!!!!!!!!!!!!!!!!!</th>\n",
       "      <th>SentimentText.\"</th>\n",
       "      <th>SentimentText.\"(referenced</th>\n",
       "      <th>SentimentText.\"&gt;100</th>\n",
       "      <th>SentimentText.\"accidental</th>\n",
       "      <th>SentimentText.\"all</th>\n",
       "      <th>SentimentText.\"anti-islamic</th>\n",
       "      <th>SentimentText.\"as</th>\n",
       "      <th>SentimentText.\"big</th>\n",
       "      <th>...</th>\n",
       "      <th>SentimentText_TransformedText.90</th>\n",
       "      <th>SentimentText_TransformedText.91</th>\n",
       "      <th>SentimentText_TransformedText.92</th>\n",
       "      <th>SentimentText_TransformedText.93</th>\n",
       "      <th>SentimentText_TransformedText.94</th>\n",
       "      <th>SentimentText_TransformedText.95</th>\n",
       "      <th>SentimentText_TransformedText.96</th>\n",
       "      <th>SentimentText_TransformedText.97</th>\n",
       "      <th>SentimentText_TransformedText.98</th>\n",
       "      <th>SentimentText_TransformedText.99</th>\n",
       "    </tr>\n",
       "  </thead>\n",
       "  <tbody>\n",
       "    <tr>\n",
       "      <th>0</th>\n",
       "      <td>0.0</td>\n",
       "      <td>0.0</td>\n",
       "      <td>0.0</td>\n",
       "      <td>0.0</td>\n",
       "      <td>0.0</td>\n",
       "      <td>0.0</td>\n",
       "      <td>0.0</td>\n",
       "      <td>0.0</td>\n",
       "      <td>0.0</td>\n",
       "      <td>0.0</td>\n",
       "      <td>...</td>\n",
       "      <td>-1.370133</td>\n",
       "      <td>-1.014376</td>\n",
       "      <td>0.554087</td>\n",
       "      <td>-0.225560</td>\n",
       "      <td>-0.366204</td>\n",
       "      <td>-0.453244</td>\n",
       "      <td>0.332854</td>\n",
       "      <td>0.422627</td>\n",
       "      <td>-1.044630</td>\n",
       "      <td>1.629947</td>\n",
       "    </tr>\n",
       "    <tr>\n",
       "      <th>1</th>\n",
       "      <td>0.0</td>\n",
       "      <td>0.0</td>\n",
       "      <td>0.0</td>\n",
       "      <td>0.0</td>\n",
       "      <td>0.0</td>\n",
       "      <td>0.0</td>\n",
       "      <td>0.0</td>\n",
       "      <td>0.0</td>\n",
       "      <td>0.0</td>\n",
       "      <td>0.0</td>\n",
       "      <td>...</td>\n",
       "      <td>-1.363716</td>\n",
       "      <td>-1.017529</td>\n",
       "      <td>0.044500</td>\n",
       "      <td>0.273996</td>\n",
       "      <td>-0.132468</td>\n",
       "      <td>-0.296792</td>\n",
       "      <td>0.828727</td>\n",
       "      <td>0.502382</td>\n",
       "      <td>-1.047630</td>\n",
       "      <td>1.490451</td>\n",
       "    </tr>\n",
       "    <tr>\n",
       "      <th>2</th>\n",
       "      <td>0.0</td>\n",
       "      <td>0.0</td>\n",
       "      <td>0.0</td>\n",
       "      <td>0.0</td>\n",
       "      <td>0.0</td>\n",
       "      <td>0.0</td>\n",
       "      <td>0.0</td>\n",
       "      <td>0.0</td>\n",
       "      <td>0.0</td>\n",
       "      <td>0.0</td>\n",
       "      <td>...</td>\n",
       "      <td>-1.264653</td>\n",
       "      <td>-0.797380</td>\n",
       "      <td>0.084775</td>\n",
       "      <td>0.081575</td>\n",
       "      <td>-0.100109</td>\n",
       "      <td>-0.291873</td>\n",
       "      <td>0.650487</td>\n",
       "      <td>0.917782</td>\n",
       "      <td>-1.071705</td>\n",
       "      <td>1.575903</td>\n",
       "    </tr>\n",
       "  </tbody>\n",
       "</table>\n",
       "<p>3 rows × 3720 columns</p>\n",
       "</div>"
      ],
      "text/plain": [
       "   SentimentText.!  SentimentText.!!!!!!!!!!!!!!!!!!!!!!!!!!!!!!!!!!!!!!!!  \\\n",
       "0              0.0                                                0.0        \n",
       "1              0.0                                                0.0        \n",
       "2              0.0                                                0.0        \n",
       "\n",
       "   SentimentText.\"  SentimentText.\"(referenced  SentimentText.\">100  \\\n",
       "0              0.0                         0.0                  0.0   \n",
       "1              0.0                         0.0                  0.0   \n",
       "2              0.0                         0.0                  0.0   \n",
       "\n",
       "   SentimentText.\"accidental  SentimentText.\"all  SentimentText.\"anti-islamic  \\\n",
       "0                        0.0                 0.0                          0.0   \n",
       "1                        0.0                 0.0                          0.0   \n",
       "2                        0.0                 0.0                          0.0   \n",
       "\n",
       "   SentimentText.\"as  SentimentText.\"big                ...                 \\\n",
       "0                0.0                 0.0                ...                  \n",
       "1                0.0                 0.0                ...                  \n",
       "2                0.0                 0.0                ...                  \n",
       "\n",
       "   SentimentText_TransformedText.90  SentimentText_TransformedText.91  \\\n",
       "0                         -1.370133                         -1.014376   \n",
       "1                         -1.363716                         -1.017529   \n",
       "2                         -1.264653                         -0.797380   \n",
       "\n",
       "   SentimentText_TransformedText.92  SentimentText_TransformedText.93  \\\n",
       "0                          0.554087                         -0.225560   \n",
       "1                          0.044500                          0.273996   \n",
       "2                          0.084775                          0.081575   \n",
       "\n",
       "   SentimentText_TransformedText.94  SentimentText_TransformedText.95  \\\n",
       "0                         -0.366204                         -0.453244   \n",
       "1                         -0.132468                         -0.296792   \n",
       "2                         -0.100109                         -0.291873   \n",
       "\n",
       "   SentimentText_TransformedText.96  SentimentText_TransformedText.97  \\\n",
       "0                          0.332854                          0.422627   \n",
       "1                          0.828727                          0.502382   \n",
       "2                          0.650487                          0.917782   \n",
       "\n",
       "   SentimentText_TransformedText.98  SentimentText_TransformedText.99  \n",
       "0                         -1.044630                          1.629947  \n",
       "1                         -1.047630                          1.490451  \n",
       "2                         -1.071705                          1.575903  \n",
       "\n",
       "[3 rows x 3720 columns]"
      ]
     },
     "execution_count": 10,
     "metadata": {},
     "output_type": "execute_result"
    }
   ],
   "source": [
    "featurizer = NGramFeaturizer(word_feature_extractor=Ngram(), output_tokens = True)\n",
    "glove = WordEmbedding(columns = \"SentimentText_TransformedText\", model_kind = 'Sswe') # indicating we are using the output token column  \n",
    "ppl = Pipeline([featurizer,glove])\n",
    "ppl.fit_transform(dataTrain[[\"SentimentText\"]])[0:3] #UPDATE WHEN SUPPORT SERIES!"
   ]
  },
  {
   "cell_type": "markdown",
   "metadata": {},
   "source": [
    "The first part of the output is the output from the NGramFeaturizer(), i.e. the weighted word/sequence count with names \"comment.[word]\". If setting **output_tokens = True**, one more extra column will be generated by NGramFeaturizer() with the list of words as required by sswe. The name of this output column is automatically renamed to \"comment_TransformedText\", which is the input column name plus \"_TransformedText\". \n",
    "\n",
    "This column used as input to SsweEmbedding, and it has a array of the words, e.g. [\"This\", \"is\", \"a\", \"sentence\"]. The output from the SsweEmbedding is named comment_TransformedText.* and has 100 dimensions."
   ]
  },
  {
   "cell_type": "markdown",
   "metadata": {},
   "source": [
    "Let's create a full pipeline for the classification problem."
   ]
  },
  {
   "cell_type": "code",
   "execution_count": 11,
   "metadata": {
    "collapsed": true
   },
   "outputs": [],
   "source": [
    "# Generating data file stream    \n",
    "data_stream_train = FileDataStream.read_csv(Train_file, sep='\\t',collapse=False)\n",
    "data_stream_test = FileDataStream.read_csv(Test_file, sep='\\t',collapse=False)"
   ]
  },
  {
   "cell_type": "code",
   "execution_count": 12,
   "metadata": {},
   "outputs": [
    {
     "name": "stdout",
     "output_type": "stream",
     "text": [
      "Automatically adding a MinMax normalization transform, use 'norm=Warn' or 'norm=No' to turn this behavior off.\n",
      "Using 8 threads to train.\n",
      "Automatically choosing a check frequency of 8.\n",
      "Auto-tuning parameters: maxIterations = 6024.\n",
      "Auto-tuning parameters: L2 = 2.670256E-05.\n",
      "Auto-tuning parameters: L1Threshold (L1/L2) = 0.25.\n",
      "Using best model from iteration 1560.\n",
      "Not training a calibrator because it is not needed.\n",
      "Elapsed time: 00:00:02.5739867\n"
     ]
    },
    {
     "data": {
      "text/plain": [
       "<nimbusml.pipeline.Pipeline at 0x23fa2ff2400>"
      ]
     },
     "execution_count": 12,
     "metadata": {},
     "output_type": "execute_result"
    }
   ],
   "source": [
    "# Creating pipeline\n",
    "pipeline = Pipeline([\n",
    "                       NGramFeaturizer(word_feature_extractor=Ngram(), output_tokens = True, columns = \"SentimentText\"),\n",
    "                       WordEmbedding(columns = \"SentimentText_TransformedText\", model_kind = 'Sswe'),\n",
    "                       FastLinearBinaryClassifier(feature = [\"SentimentText_TransformedText\"], label = 'Sentiment')  \n",
    "                    ])\n",
    "\n",
    "# Training\n",
    "pipeline.fit(data_stream_train)  "
   ]
  },
  {
   "cell_type": "code",
   "execution_count": 13,
   "metadata": {},
   "outputs": [
    {
     "data": {
      "text/html": [
       "<div>\n",
       "<style scoped>\n",
       "    .dataframe tbody tr th:only-of-type {\n",
       "        vertical-align: middle;\n",
       "    }\n",
       "\n",
       "    .dataframe tbody tr th {\n",
       "        vertical-align: top;\n",
       "    }\n",
       "\n",
       "    .dataframe thead th {\n",
       "        text-align: right;\n",
       "    }\n",
       "</style>\n",
       "<table border=\"1\" class=\"dataframe\">\n",
       "  <thead>\n",
       "    <tr style=\"text-align: right;\">\n",
       "      <th></th>\n",
       "      <th>AUC</th>\n",
       "      <th>Accuracy</th>\n",
       "      <th>Positive precision</th>\n",
       "      <th>Positive recall</th>\n",
       "      <th>Negative precision</th>\n",
       "      <th>Negative recall</th>\n",
       "      <th>Log-loss</th>\n",
       "      <th>Log-loss reduction</th>\n",
       "      <th>Test-set entropy (prior Log-Loss/instance)</th>\n",
       "      <th>F1 Score</th>\n",
       "      <th>AUPRC</th>\n",
       "    </tr>\n",
       "  </thead>\n",
       "  <tbody>\n",
       "    <tr>\n",
       "      <th>0</th>\n",
       "      <td>0.950617</td>\n",
       "      <td>0.888889</td>\n",
       "      <td>0.888889</td>\n",
       "      <td>0.888889</td>\n",
       "      <td>0.888889</td>\n",
       "      <td>0.888889</td>\n",
       "      <td>0.349515</td>\n",
       "      <td>65.048471</td>\n",
       "      <td>1</td>\n",
       "      <td>0.888889</td>\n",
       "      <td>0.964387</td>\n",
       "    </tr>\n",
       "  </tbody>\n",
       "</table>\n",
       "</div>"
      ],
      "text/plain": [
       "        AUC  Accuracy  Positive precision  Positive recall  \\\n",
       "0  0.950617  0.888889            0.888889         0.888889   \n",
       "\n",
       "   Negative precision  Negative recall  Log-loss  Log-loss reduction  \\\n",
       "0            0.888889         0.888889  0.349515           65.048471   \n",
       "\n",
       "   Test-set entropy (prior Log-Loss/instance)  F1 Score     AUPRC  \n",
       "0                                           1  0.888889  0.964387  "
      ]
     },
     "execution_count": 13,
     "metadata": {},
     "output_type": "execute_result"
    }
   ],
   "source": [
    "# Testing\n",
    "metrics, scores = pipeline.test(data_stream_test,'Sentiment', output_scores = True)\n",
    "metrics"
   ]
  },
  {
   "cell_type": "code",
   "execution_count": 14,
   "metadata": {},
   "outputs": [
    {
     "data": {
      "image/png": "[encoded data removed]",
      "text/plain": [
       "<matplotlib.figure.Figure at 0x23fca0e4d68>"
      ]
     },
     "metadata": {},
     "output_type": "display_data"
    }
   ],
   "source": [
    "# Plot roc\n",
    "plot_roc_score(dataTest[\"Sentiment\"], scores[\"Probability\"]);"
   ]
  }
 ],
 "metadata": {
  "language_info": {
   "codemirror_mode": {
    "name": "ipython",
    "version": 3
   },
   "file_extension": ".py",
   "mimetype": "text/x-python",
   "name": "python",
   "nbconvert_exporter": "python",
   "pygments_lexer": "ipython3",
   "version": "3.6.3"
  }
 },
 "nbformat": 4,
 "nbformat_minor": 2
}
