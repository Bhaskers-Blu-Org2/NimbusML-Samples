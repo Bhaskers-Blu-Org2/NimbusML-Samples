{
 "cells": [
  {
   "cell_type": "markdown",
   "metadata": {},
   "source": [
    "# Sentiment Analysis 3 - Combining NimbusML and Scikit-learn\n",
    "\n",
    "Learners and transformations in NimbusML can be used in sklearn pipelines together with scikit learn elements. In this example, we develop a scikit learn pipeline with NimbusML featurizer and then replace all scikit learn elements with NimbusML ones.\n",
    "\n",
    "We use the WikiPedia Detox dataset (https://meta.wikimedia.org/wiki/Research:Detox/Data_Release) to develop a binary classifier to identify if a comment on the webpage is a personal attack. The original input data includes a corpus of 95 million article talks, while in this example, we use a small sample (100 rows) for training and testing.\n",
    "\n",
    "2 models/pipelines are created:\n",
    "1. A sklearn pipeline with NimbusML NGramFeaturizer, sklearn Truncated SVD and sklearn LogisticRegression\n",
    "2. A NimbusML pipeline with NimbusML NGramFeaturizer, NimbusML WordEmbedding and NimbusML FastLinearBinaryClassifier trained with NimbusML FileDataStream."
   ]
  },
  {
   "cell_type": "markdown",
   "metadata": {},
   "source": [
    "A sample of the dataset is presented in the following table:\n",
    "\n",
    "|Sentiment|SentimentText|\n",
    "|-----|-----------------|\n",
    "|1|==RUDE== Dude, you are rude upload that carl picture back, or else.|\n",
    "|1|== OK! ==  IM GOING TO VANDALIZE WILD ONES WIKI THEN!!!|\n",
    "|1|  Stop trolling, zapatancas, calling me a liar merely demonstartes that you arer Zapatancas...|"
   ]
  },
  {
   "cell_type": "markdown",
   "metadata": {},
   "source": [
    "For simplicity, we just use the \"comment\" column as the input data and the \"Label\" column as the label."
   ]
  },
  {
   "cell_type": "markdown",
   "metadata": {},
   "source": [
    "## Model 1: Sklearn Pipeline with NimbusML Element "
   ]
  },
  {
   "cell_type": "markdown",
   "metadata": {},
   "source": [
    "In this example, we create a sklearn pipeline with NimbusML NGramFeaturizer, sklearn Truncated SVD and sklearn LogisticRegression. Similarly to the TfidfVectorizer(), our NGramFeaturizer creates the the same bag of counts of sequences and weights it using TF-IDF method. \n",
    "The NimbusML featurizer works as well in a sklearn pipeline. We can just swap out the first TfidfVectorizer() with our NGramFeaturizer() in the sklearn pipeline."
   ]
  },
  {
   "cell_type": "code",
   "execution_count": 1,
   "metadata": {},
   "outputs": [],
   "source": [
    "import numpy as np\n",
    "import time\n",
    "import sklearn\n",
    "import os\n",
    "from IPython.display import display\n",
    "import matplotlib.pyplot as plt\n",
    "import pandas as pd\n",
    "from nimbusml.datasets import get_dataset\n",
    "from nimbusml.feature_extraction.text.extractor import Ngram\n",
    "from nimbusml.feature_extraction.text import NGramFeaturizer\n",
    "from sklearn.feature_extraction.text import TfidfVectorizer as sklearn_TfidfVectorizer\n",
    "from sklearn.decomposition import TruncatedSVD as sklearn_TruncatedSVD\n",
    "from sklearn.pipeline import Pipeline as sklearn_ppl\n",
    "from sklearn.metrics import roc_auc_score, roc_curve\n",
    "from sklearn.metrics import auc as sk_auc"
   ]
  },
  {
   "cell_type": "code",
   "execution_count": 2,
   "metadata": {},
   "outputs": [],
   "source": [
    "def plot_roc_score(label_test, score):\n",
    "    x, y, _ = roc_curve(label_test, score)\n",
    "    roc_auc = sk_auc(x, y)\n",
    "    \n",
    "    plt.figure()\n",
    "    lw = 2\n",
    "    plt.plot(x, y, color='darkorange',\n",
    "             lw=lw, label='ROC curve (area = %0.2f)' % roc_auc)\n",
    "    plt.plot([0, 1], [0, 1], color='navy', lw=lw, linestyle='--')\n",
    "    plt.xlim([0.0, 1.0])\n",
    "    plt.ylim([0.0, 1.05])\n",
    "    plt.xlabel('False Positive Rate')\n",
    "    plt.ylabel('True Positive Rate')\n",
    "    plt.title('Receiver operating characteristic')\n",
    "    plt.legend(loc=\"lower right\")\n",
    "    plt.show()"
   ]
  },
  {
   "cell_type": "code",
   "execution_count": 3,
   "metadata": {},
   "outputs": [
    {
     "name": "stdout",
     "output_type": "stream",
     "text": [
      "train-250.wikipedia.sample.tsv\n",
      "test.wikipedia.sample.tsv\n"
     ]
    }
   ],
   "source": [
    "# Get input data file path from the package\n",
    "Train_file = get_dataset('wiki_detox_train').as_filepath()\n",
    "Test_file = get_dataset('wiki_detox_test').as_filepath()\n",
    "print(os.path.basename(Train_file))\n",
    "print(os.path.basename(Test_file))"
   ]
  },
  {
   "cell_type": "code",
   "execution_count": 4,
   "metadata": {},
   "outputs": [
    {
     "data": {
      "text/html": [
       "<div>\n",
       "<style scoped>\n",
       "    .dataframe tbody tr th:only-of-type {\n",
       "        vertical-align: middle;\n",
       "    }\n",
       "\n",
       "    .dataframe tbody tr th {\n",
       "        vertical-align: top;\n",
       "    }\n",
       "\n",
       "    .dataframe thead th {\n",
       "        text-align: right;\n",
       "    }\n",
       "</style>\n",
       "<table border=\"1\" class=\"dataframe\">\n",
       "  <thead>\n",
       "    <tr style=\"text-align: right;\">\n",
       "      <th></th>\n",
       "      <th>Sentiment</th>\n",
       "      <th>SentimentText</th>\n",
       "    </tr>\n",
       "  </thead>\n",
       "  <tbody>\n",
       "    <tr>\n",
       "      <th>0</th>\n",
       "      <td>1</td>\n",
       "      <td>==RUDE== Dude, you are rude upload that carl...</td>\n",
       "    </tr>\n",
       "    <tr>\n",
       "      <th>1</th>\n",
       "      <td>1</td>\n",
       "      <td>== OK! ==  IM GOING TO VANDALIZE WILD ONES W...</td>\n",
       "    </tr>\n",
       "    <tr>\n",
       "      <th>2</th>\n",
       "      <td>1</td>\n",
       "      <td>Stop trolling, zapatancas, calling me a lia...</td>\n",
       "    </tr>\n",
       "    <tr>\n",
       "      <th>3</th>\n",
       "      <td>1</td>\n",
       "      <td>==You're cool==  You seem like a really cool...</td>\n",
       "    </tr>\n",
       "    <tr>\n",
       "      <th>4</th>\n",
       "      <td>1</td>\n",
       "      <td>::::: Why are you threatening me? I'm not bei...</td>\n",
       "    </tr>\n",
       "  </tbody>\n",
       "</table>\n",
       "</div>"
      ],
      "text/plain": [
       "   Sentiment                                      SentimentText\n",
       "0          1    ==RUDE== Dude, you are rude upload that carl...\n",
       "1          1    == OK! ==  IM GOING TO VANDALIZE WILD ONES W...\n",
       "2          1     Stop trolling, zapatancas, calling me a lia...\n",
       "3          1    ==You're cool==  You seem like a really cool...\n",
       "4          1   ::::: Why are you threatening me? I'm not bei..."
      ]
     },
     "execution_count": 4,
     "metadata": {},
     "output_type": "execute_result"
    }
   ],
   "source": [
    "# Loading data\n",
    "# dataTrain = pd.read_csv(Train_file, encoding=\"ISO-8859-1\", sep = \"\\t\") # Error under py2.7 but not 3.6\n",
    "dataTrain = pd.read_csv(Train_file, sep = \"\\t\")\n",
    "dataTest = pd.read_csv(Test_file, sep = \"\\t\")\n",
    "\n",
    "dataTrain.head()"
   ]
  },
  {
   "cell_type": "code",
   "execution_count": 5,
   "metadata": {},
   "outputs": [],
   "source": [
    "# Creating pipeline\n",
    "t0 = time.time()\n",
    "\n",
    "featurizer = NGramFeaturizer(word_feature_extractor=Ngram())\n",
    "svd = sklearn_TruncatedSVD(random_state = 1, n_components = 400)\n",
    "lr = sklearn.linear_model.LogisticRegression()\n",
    "sk_ppl = sklearn_ppl([(\"featurizer\",featurizer),\n",
    "                     (\"svd\",svd),\n",
    "                     (\"lr\",lr)]) "
   ]
  },
  {
   "cell_type": "code",
   "execution_count": 6,
   "metadata": {},
   "outputs": [
    {
     "name": "stdout",
     "output_type": "stream",
     "text": [
      "Training time: 5.53s\n"
     ]
    },
    {
     "name": "stderr",
     "output_type": "stream",
     "text": [
      "c:\\users\\v-tshuan\\env\\env\\python37_general\\lib\\site-packages\\sklearn\\linear_model\\logistic.py:432: FutureWarning: Default solver will be changed to 'lbfgs' in 0.22. Specify a solver to silence this warning.\n",
      "  FutureWarning)\n"
     ]
    }
   ],
   "source": [
    "# Training\n",
    "sk_ppl.fit(dataTrain[[\"SentimentText\"]], dataTrain[\"Sentiment\"]) #UPDATE ONCE SERIES IS SUPPORTED FOR X!\n",
    "\n",
    "train_time_sec = time.time() - t0\n",
    "print(\"Training time: \" + str(round(train_time_sec,2)) + \"s\")"
   ]
  },
  {
   "cell_type": "code",
   "execution_count": 7,
   "metadata": {},
   "outputs": [
    {
     "name": "stdout",
     "output_type": "stream",
     "text": [
      "Testing time: 2.2s\n"
     ]
    }
   ],
   "source": [
    "# Testing\n",
    "t0 = time.time()\n",
    "Y_pred = sk_ppl.predict(dataTest[\"SentimentText\"].to_frame()) #UPDATE ONCE SERIES IS SUPPORTED FOR X!\n",
    "Y_prob = sk_ppl.predict_proba(dataTest[\"SentimentText\"].to_frame())#UPDATE ONCE SERIES IS SUPPORTED FOR X!\n",
    "test_time_sec = time.time() - t0\n",
    "print(\"Testing time: \" + str(round(test_time_sec,2)) + \"s\")"
   ]
  },
  {
   "cell_type": "code",
   "execution_count": 8,
   "metadata": {},
   "outputs": [
    {
     "data": {
      "image/png": "[encoded data removed]",
      "text/plain": [
       "<Figure size 432x288 with 1 Axes>"
      ]
     },
     "metadata": {
      "needs_background": "light"
     },
     "output_type": "display_data"
    }
   ],
   "source": [
    "# Plot roc\n",
    "plot_roc_score(dataTest[\"Sentiment\"], Y_prob[:,1]);"
   ]
  },
  {
   "cell_type": "markdown",
   "metadata": {},
   "source": [
    "## Model 2: Pure NimbusML with Schema"
   ]
  },
  {
   "cell_type": "markdown",
   "metadata": {},
   "source": [
    "In this example, we will create a pure NimbusML pipeline with only NimbusML elements, i.e. NimbusML NGramFeaturizer, NimbusML WordEmbedding and NimbusML FastLinearBinaryClassifier. We will process the data using NimbusML DataFileStream instead of pandas dataframe."
   ]
  },
  {
   "cell_type": "code",
   "execution_count": 9,
   "metadata": {},
   "outputs": [],
   "source": [
    "import time\n",
    "from nimbusml.linear_model import FastLinearBinaryClassifier\n",
    "from nimbusml.feature_extraction.text import WordEmbedding\n",
    "from nimbusml import Pipeline, FileDataStream"
   ]
  },
  {
   "cell_type": "markdown",
   "metadata": {},
   "source": [
    "The WordEmbedding() is based on a pretrained DNN model to generate word embeddings for given corps. In this example, we use the 'GloVe50D' as the embedding model. Available options are: 'GloVe50D', 'GloVe100D', 'GloVe200D', 'GloVe300D', 'GloVeTwitter25D', 'GloVeTwitter50D', 'GloVeTwitter100D', 'GloVeTwitter200D', 'FastTextWikipedia300D', and 'Sswe'. The output is 100 dimensional and compared with the \"vanilla\" ngram models, the features are much more meaningful. Users can also play with other options, such as the Sentiment-specific word embedding (SSWE), which incorporates sentiment information into the features. It's proved to be useful in various sentiment analysis tasks. \n",
    "\n",
    "The WordEmbedding() takes as input a sequence of words: \n",
    "\n",
    "                                         [\"This\", \"is\", \"a\", \"sentence\"].\n",
    "\n",
    "Therefore, we need to convert the raw input \"This is a sentence\" into the format that SsweEmbedding requires. And that can be done using the NGramFeaturizer() and setting output_tokens = True. Let's see a short example."
   ]
  },
  {
   "cell_type": "code",
   "execution_count": 10,
   "metadata": {},
   "outputs": [
    {
     "data": {
      "text/html": [
       "<div>\n",
       "<style scoped>\n",
       "    .dataframe tbody tr th:only-of-type {\n",
       "        vertical-align: middle;\n",
       "    }\n",
       "\n",
       "    .dataframe tbody tr th {\n",
       "        vertical-align: top;\n",
       "    }\n",
       "\n",
       "    .dataframe thead th {\n",
       "        text-align: right;\n",
       "    }\n",
       "</style>\n",
       "<table border=\"1\" class=\"dataframe\">\n",
       "  <thead>\n",
       "    <tr style=\"text-align: right;\">\n",
       "      <th></th>\n",
       "      <th>SentimentText.Char.&lt;␂&gt;|&lt;␠&gt;|&lt;␠&gt;</th>\n",
       "      <th>SentimentText.Char.&lt;␠&gt;|&lt;␠&gt;|=</th>\n",
       "      <th>SentimentText.Char.&lt;␠&gt;|=|=</th>\n",
       "      <th>SentimentText.Char.=|=|r</th>\n",
       "      <th>SentimentText.Char.=|r|u</th>\n",
       "      <th>SentimentText.Char.r|u|d</th>\n",
       "      <th>SentimentText.Char.u|d|e</th>\n",
       "      <th>SentimentText.Char.d|e|=</th>\n",
       "      <th>SentimentText.Char.e|=|=</th>\n",
       "      <th>SentimentText.Char.=|=|&lt;␠&gt;</th>\n",
       "      <th>...</th>\n",
       "      <th>SentimentText_TransformedText.140</th>\n",
       "      <th>SentimentText_TransformedText.141</th>\n",
       "      <th>SentimentText_TransformedText.142</th>\n",
       "      <th>SentimentText_TransformedText.143</th>\n",
       "      <th>SentimentText_TransformedText.144</th>\n",
       "      <th>SentimentText_TransformedText.145</th>\n",
       "      <th>SentimentText_TransformedText.146</th>\n",
       "      <th>SentimentText_TransformedText.147</th>\n",
       "      <th>SentimentText_TransformedText.148</th>\n",
       "      <th>SentimentText_TransformedText.149</th>\n",
       "    </tr>\n",
       "  </thead>\n",
       "  <tbody>\n",
       "    <tr>\n",
       "      <th>0</th>\n",
       "      <td>0.112509</td>\n",
       "      <td>0.112509</td>\n",
       "      <td>0.112509</td>\n",
       "      <td>0.112509</td>\n",
       "      <td>0.112509</td>\n",
       "      <td>0.225018</td>\n",
       "      <td>0.337526</td>\n",
       "      <td>0.112509</td>\n",
       "      <td>0.112509</td>\n",
       "      <td>0.112509</td>\n",
       "      <td>...</td>\n",
       "      <td>1.8365</td>\n",
       "      <td>1.24890</td>\n",
       "      <td>0.73452</td>\n",
       "      <td>1.00320</td>\n",
       "      <td>0.91771</td>\n",
       "      <td>0.43624</td>\n",
       "      <td>1.32730</td>\n",
       "      <td>0.57652</td>\n",
       "      <td>0.78847</td>\n",
       "      <td>1.40290</td>\n",
       "    </tr>\n",
       "    <tr>\n",
       "      <th>1</th>\n",
       "      <td>0.123091</td>\n",
       "      <td>0.123091</td>\n",
       "      <td>0.246183</td>\n",
       "      <td>0.000000</td>\n",
       "      <td>0.000000</td>\n",
       "      <td>0.000000</td>\n",
       "      <td>0.000000</td>\n",
       "      <td>0.000000</td>\n",
       "      <td>0.000000</td>\n",
       "      <td>0.246183</td>\n",
       "      <td>...</td>\n",
       "      <td>1.3476</td>\n",
       "      <td>0.02934</td>\n",
       "      <td>0.72827</td>\n",
       "      <td>0.71075</td>\n",
       "      <td>1.41140</td>\n",
       "      <td>0.74266</td>\n",
       "      <td>0.24762</td>\n",
       "      <td>0.80416</td>\n",
       "      <td>0.93088</td>\n",
       "      <td>0.69927</td>\n",
       "    </tr>\n",
       "    <tr>\n",
       "      <th>2</th>\n",
       "      <td>0.036936</td>\n",
       "      <td>0.000000</td>\n",
       "      <td>0.000000</td>\n",
       "      <td>0.000000</td>\n",
       "      <td>0.000000</td>\n",
       "      <td>0.000000</td>\n",
       "      <td>0.000000</td>\n",
       "      <td>0.000000</td>\n",
       "      <td>0.000000</td>\n",
       "      <td>0.000000</td>\n",
       "      <td>...</td>\n",
       "      <td>1.4733</td>\n",
       "      <td>0.83765</td>\n",
       "      <td>0.73452</td>\n",
       "      <td>1.41260</td>\n",
       "      <td>0.88382</td>\n",
       "      <td>0.82328</td>\n",
       "      <td>0.85120</td>\n",
       "      <td>1.70360</td>\n",
       "      <td>1.29480</td>\n",
       "      <td>1.57860</td>\n",
       "    </tr>\n",
       "  </tbody>\n",
       "</table>\n",
       "<p>3 rows × 8781 columns</p>\n",
       "</div>"
      ],
      "text/plain": [
       "   SentimentText.Char.<␂>|<␠>|<␠>  SentimentText.Char.<␠>|<␠>|=  \\\n",
       "0                        0.112509                      0.112509   \n",
       "1                        0.123091                      0.123091   \n",
       "2                        0.036936                      0.000000   \n",
       "\n",
       "   SentimentText.Char.<␠>|=|=  SentimentText.Char.=|=|r  \\\n",
       "0                    0.112509                  0.112509   \n",
       "1                    0.246183                  0.000000   \n",
       "2                    0.000000                  0.000000   \n",
       "\n",
       "   SentimentText.Char.=|r|u  SentimentText.Char.r|u|d  \\\n",
       "0                  0.112509                  0.225018   \n",
       "1                  0.000000                  0.000000   \n",
       "2                  0.000000                  0.000000   \n",
       "\n",
       "   SentimentText.Char.u|d|e  SentimentText.Char.d|e|=  \\\n",
       "0                  0.337526                  0.112509   \n",
       "1                  0.000000                  0.000000   \n",
       "2                  0.000000                  0.000000   \n",
       "\n",
       "   SentimentText.Char.e|=|=  SentimentText.Char.=|=|<␠>  ...  \\\n",
       "0                  0.112509                    0.112509  ...   \n",
       "1                  0.000000                    0.246183  ...   \n",
       "2                  0.000000                    0.000000  ...   \n",
       "\n",
       "   SentimentText_TransformedText.140  SentimentText_TransformedText.141  \\\n",
       "0                             1.8365                            1.24890   \n",
       "1                             1.3476                            0.02934   \n",
       "2                             1.4733                            0.83765   \n",
       "\n",
       "   SentimentText_TransformedText.142  SentimentText_TransformedText.143  \\\n",
       "0                            0.73452                            1.00320   \n",
       "1                            0.72827                            0.71075   \n",
       "2                            0.73452                            1.41260   \n",
       "\n",
       "   SentimentText_TransformedText.144  SentimentText_TransformedText.145  \\\n",
       "0                            0.91771                            0.43624   \n",
       "1                            1.41140                            0.74266   \n",
       "2                            0.88382                            0.82328   \n",
       "\n",
       "   SentimentText_TransformedText.146  SentimentText_TransformedText.147  \\\n",
       "0                            1.32730                            0.57652   \n",
       "1                            0.24762                            0.80416   \n",
       "2                            0.85120                            1.70360   \n",
       "\n",
       "   SentimentText_TransformedText.148  SentimentText_TransformedText.149  \n",
       "0                            0.78847                            1.40290  \n",
       "1                            0.93088                            0.69927  \n",
       "2                            1.29480                            1.57860  \n",
       "\n",
       "[3 rows x 8781 columns]"
      ]
     },
     "execution_count": 10,
     "metadata": {},
     "output_type": "execute_result"
    }
   ],
   "source": [
    "featurizer = NGramFeaturizer(word_feature_extractor=Ngram(), output_tokens_column_name='SentimentText_TransformedText', columns=['SentimentText'])\n",
    "glove = WordEmbedding(columns='SentimentText_TransformedText', model_kind='GloVe50D') # indicating we are using the output token column  \n",
    "ppl = Pipeline([featurizer,glove])\n",
    "ppl.fit_transform(dataTrain[[\"SentimentText\"]])[0:3] #UPDATE WHEN SUPPORT SERIES!"
   ]
  },
  {
   "cell_type": "markdown",
   "metadata": {},
   "source": [
    "The first part of the output is the output from the NGramFeaturizer(), i.e. the weighted word/sequence count with names \"comment.[word]\". If setting **output_tokens = True**, one more extra column will be generated by NGramFeaturizer() with the list of words as required by sswe. The name of this output column is automatically renamed to \"comment_TransformedText\", which is the input column name plus \"_TransformedText\". \n",
    "\n",
    "This column used as input to SsweEmbedding, and it has a array of the words, e.g. [\"This\", \"is\", \"a\", \"sentence\"]. The output from the SsweEmbedding is named comment_TransformedText.* and has 100 dimensions."
   ]
  },
  {
   "cell_type": "markdown",
   "metadata": {},
   "source": [
    "Let's create a full pipeline for the classification problem."
   ]
  },
  {
   "cell_type": "code",
   "execution_count": 11,
   "metadata": {},
   "outputs": [],
   "source": [
    "# Generating data file stream    \n",
    "data_stream_train = FileDataStream.read_csv(Train_file, sep='\\t',collapse=False)\n",
    "data_stream_test = FileDataStream.read_csv(Test_file, sep='\\t',collapse=False)"
   ]
  },
  {
   "cell_type": "code",
   "execution_count": 12,
   "metadata": {},
   "outputs": [
    {
     "name": "stdout",
     "output_type": "stream",
     "text": [
      "Automatically adding a MinMax normalization transform, use 'norm=Warn' or 'norm=No' to turn this behavior off.\n",
      "Using 4 threads to train.\n",
      "Automatically choosing a check frequency of 4.\n",
      "Auto-tuning parameters: maxIterations = 6300.\n",
      "Auto-tuning parameters: L2 = 2.669429E-05.\n",
      "Auto-tuning parameters: L1Threshold (L1/L2) = 0.25.\n",
      "Using best model from iteration 1944.\n",
      "Not training a calibrator because it is not needed.\n",
      "Elapsed time: 00:00:01.5763215\n"
     ]
    },
    {
     "data": {
      "text/plain": [
       "<nimbusml.pipeline.Pipeline at 0x20d6b93bba8>"
      ]
     },
     "execution_count": 12,
     "metadata": {},
     "output_type": "execute_result"
    }
   ],
   "source": [
    "# Creating pipeline\n",
    "pipeline = Pipeline([\n",
    "                       NGramFeaturizer(word_feature_extractor=Ngram(), output_tokens_column_name='SentimentText_TransformedText', columns=['SentimentText']),\n",
    "                       WordEmbedding(columns = \"SentimentText_TransformedText\"),\n",
    "                       FastLinearBinaryClassifier(feature = [\"SentimentText_TransformedText\"], label = 'Sentiment')  \n",
    "                    ])\n",
    "\n",
    "# Training\n",
    "pipeline.fit(data_stream_train)  "
   ]
  },
  {
   "cell_type": "code",
   "execution_count": 13,
   "metadata": {},
   "outputs": [
    {
     "data": {
      "text/html": [
       "<div>\n",
       "<style scoped>\n",
       "    .dataframe tbody tr th:only-of-type {\n",
       "        vertical-align: middle;\n",
       "    }\n",
       "\n",
       "    .dataframe tbody tr th {\n",
       "        vertical-align: top;\n",
       "    }\n",
       "\n",
       "    .dataframe thead th {\n",
       "        text-align: right;\n",
       "    }\n",
       "</style>\n",
       "<table border=\"1\" class=\"dataframe\">\n",
       "  <thead>\n",
       "    <tr style=\"text-align: right;\">\n",
       "      <th></th>\n",
       "      <th>AUC</th>\n",
       "      <th>Accuracy</th>\n",
       "      <th>Positive precision</th>\n",
       "      <th>Positive recall</th>\n",
       "      <th>Negative precision</th>\n",
       "      <th>Negative recall</th>\n",
       "      <th>Log-loss</th>\n",
       "      <th>Log-loss reduction</th>\n",
       "      <th>Test-set entropy (prior Log-Loss/instance)</th>\n",
       "      <th>F1 Score</th>\n",
       "      <th>AUPRC</th>\n",
       "    </tr>\n",
       "  </thead>\n",
       "  <tbody>\n",
       "    <tr>\n",
       "      <th>0</th>\n",
       "      <td>0.950617</td>\n",
       "      <td>0.833333</td>\n",
       "      <td>0.8</td>\n",
       "      <td>0.888889</td>\n",
       "      <td>0.875</td>\n",
       "      <td>0.777778</td>\n",
       "      <td>0.458667</td>\n",
       "      <td>0.541333</td>\n",
       "      <td>1</td>\n",
       "      <td>0.842105</td>\n",
       "      <td>0.964387</td>\n",
       "    </tr>\n",
       "  </tbody>\n",
       "</table>\n",
       "</div>"
      ],
      "text/plain": [
       "        AUC  Accuracy  Positive precision  Positive recall  \\\n",
       "0  0.950617  0.833333                 0.8         0.888889   \n",
       "\n",
       "   Negative precision  Negative recall  Log-loss  Log-loss reduction  \\\n",
       "0               0.875         0.777778  0.458667            0.541333   \n",
       "\n",
       "   Test-set entropy (prior Log-Loss/instance)  F1 Score     AUPRC  \n",
       "0                                           1  0.842105  0.964387  "
      ]
     },
     "execution_count": 13,
     "metadata": {},
     "output_type": "execute_result"
    }
   ],
   "source": [
    "# Testing\n",
    "metrics, scores = pipeline.test(data_stream_test,'Sentiment', output_scores = True)\n",
    "metrics"
   ]
  },
  {
   "cell_type": "code",
   "execution_count": 14,
   "metadata": {},
   "outputs": [
    {
     "data": {
      "image/png": "[encoded data removed]",
      "text/plain": [
       "<Figure size 432x288 with 1 Axes>"
      ]
     },
     "metadata": {
      "needs_background": "light"
     },
     "output_type": "display_data"
    }
   ],
   "source": [
    "# Plot roc\n",
    "plot_roc_score(dataTest[\"Sentiment\"], scores[\"Probability\"]);"
   ]
  },
  {
   "cell_type": "code",
   "execution_count": null,
   "metadata": {},
   "outputs": [],
   "source": []
  }
 ],
 "metadata": {
  "kernelspec": {
   "display_name": "Python 3",
   "language": "python",
   "name": "python3"
  },
  "language_info": {
   "codemirror_mode": {
    "name": "ipython",
    "version": 3
   },
   "file_extension": ".py",
   "mimetype": "text/x-python",
   "name": "python",
   "nbconvert_exporter": "python",
   "pygments_lexer": "ipython3",
   "version": "3.7.2"
  }
 },
 "nbformat": 4,
 "nbformat_minor": 2
}
